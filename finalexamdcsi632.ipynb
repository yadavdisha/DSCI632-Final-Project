{
  "cells": [
    {
      "cell_type": "markdown",
      "metadata": {
        "id": "bVOeaFeQyw2z"
      },
      "source": [
        "# DSCI 632 Final\n",
        "\n",
        "Your final is to use the dataset of your choice and the techniques in this class to do the following:\n",
        "\n",
        "1. Define and describe the dataset (10 points)\n",
        "1. Clean the data (10 points)\n",
        "1. Transform the clean data (10 points)\n",
        "1. Show your analysis of the data (10 points)"
      ]
    },
    {
      "cell_type": "markdown",
      "source": [
        "## Ground Rules\n",
        "\n",
        "1. Explain everything you're doing with pyspark in the code cells using [markdown](https://www.markdownguide.org/cheat-sheet) in text cells. Help the reader understand why you're doing each step so they can re-create it. Remember, this is an assignment to show how you analyze data to a potential employer. Don't use code comments to explain things.\n",
        "1. All of the sections are heading 1 in markdown, so use heading 2 to write your explainations, and heading 3 for any sub-headers. Check in your table of contents view in colab to make sure each point is listed before you turn this in.\n",
        "1. Don't hesisate to use multiple code/text cells in each section, as long as they're all labeled and described.\n",
        "1. Assume that the reader doesn't have access to the dataset on your local machine. Provide a link to the dataset you're using, or if able, include code to copy it from a public source. Don't rely on uploading from your local machine. (Importing from Google Drive is ok, as long as you provide the link to the data)\n",
        "1. If using GCP services, include screenshots from your console if there's a step that you aren't able to re-produce in code. Using the SDK is always preferred, but you won't lose points for using screenshots and explaining them.\n",
        "1. Import the data ONCE, then transform it to fit your analysis.\n",
        "1. Don't overwrite data, make new columns for new transformations. You can always drop columns later, but you can't get overwritten values back.\n",
        "1. Feel free to work with classmates, but all work submitted must be your own.\n",
        "1. Make sure to run disconnect the runtime and re-run the notebook at least once before turning in. If you are getting certain Java runtime errors, this might also help."
      ],
      "metadata": {
        "id": "QDuI2z06P-5A"
      }
    },
    {
      "cell_type": "markdown",
      "source": [
        "## Extra Credit Opportunities!\n",
        "\n",
        "- If you provide a link to this notebook on your public GitHub page instead of turning it in as an attachment, you will get 2 points extra credit.\n",
        "- Extra credit will be given for using the [Google Cloud SDK](https://cloud.google.com/sdk/) to create/use/destroy any cloud resources, up to 2 points per section, 8 points total.\n",
        " - Don't be afraid to look at the GCP example colab notebooks from the class notes, the GCP documentation, or GitHub for examples.\n",
        "- If this notebook is self-contained, you will get 5 points extra credit. (Requirements below)\n",
        " - The data is imported without relying on Google Drive, as the paths to data in Google Drive are user-specific. Downloads from public storage buckets/services are fine. (1 point)\n",
        " - It be run from start to finish without making any changes to paths, code, or variable names. (1 point)\n",
        " - All calls to external services, including GCP, are done programatically, no screenshots explaining how it worked in a browser console. (Using an API or SDK, 2 points)\n",
        " - All cloud resources are destroyed at the end of the notebook in a seperate section (Also via API or SDK, 1 point)"
      ],
      "metadata": {
        "id": "bwwqgbsFQChH"
      }
    },
    {
      "cell_type": "markdown",
      "source": [
        "# Section 1: Define and describe the dataset\n",
        "\n",
        "10 points\n",
        "\n",
        "Import the dataset, and describe why you'll be analyzing in it. You can summarize a few columns, show a more information on the relavent features, or but help the reader understand what the dataset is, what is in it, and why you picked it.\n",
        "\n",
        "Some questions that it might help you to answer:\n",
        "1. Why are you choosing this dataset?\n",
        "1. What variables will you use?\n",
        "1. What analysis(es) will you run?\n",
        "1. Do you have any hypotheses? What are they?\n",
        "\n",
        "### This section should include one or more of the following:\n",
        "- A histogram of several features relavent to your analysis\n",
        "- The schema of the dataset, with the datatypes assigned correctly\n",
        "- A text cell with explainations of the relavent features in [markdown](https://www.markdownguide.org/cheat-sheet)\n",
        "- Use Spark SQL or built-in methods to show a range of values\n",
        "- Most common words/n-grams found"
      ],
      "metadata": {
        "id": "-ex1uDA1QJL5"
      }
    },
    {
      "cell_type": "markdown",
      "source": [
        "**1.Why are you choosing this dataset?**\n",
        "\n",
        "Ans:I chose this data because its interesting to see what makes songs popular. We can learn a lot about what people like in music nowadays.\n",
        "\n",
        "2.What variables will you use? **bold text**\n",
        "\n",
        "Ans:\n",
        "a.Music Style: This is the type of music for each song, like rock or pop. We're looking at this to see what kinds of music people like the most.\n",
        "\n",
        "b.Popularity: This is a number that shows how much people like each song. We want to find out what makes a song popular.\n",
        "\n",
        "c.Danceable: This tells us if a song is good for dancing. We're going to check if songs that are easier to dance to are more popular.\n",
        "\n",
        "d.Energy: This shows if the song is fast and loud or slow and quiet. We'll look at whether louder and faster songs are liked more.\n",
        "\n",
        "e.Acoustic: This tells us if the song sounds more like live music or if it's more electronic. We'll see if people prefer songs that sound more live or more electronic.\n",
        "\n",
        "**3.What analysis(es) will you run?**\n",
        "\n",
        "Ans:I am planning to do below steps for my analysis:\n",
        "Exploratory Analysis: Look at song features like danceability, energy, and genres to understand the data.\n",
        "\n",
        "Feature Correlation: Check how different song features relate to each other and to song popularity.\n",
        "\n",
        "Predictions with Machine Learning:\n",
        "\n",
        "Random Forest & Decision Tree: Predict song popularity or genre based on features.\n",
        "XGBoost: Apply an advanced model for possibly better predictions.\n",
        "K-Means Clustering: Group songs into clusters based on their features to find patterns.\n",
        "Evaluate Models: Check how well each machine learning model performed.\n",
        "\n",
        "**4.Do you have any hypotheses? What are they?**\n",
        "\n",
        "Ans:Happier Songs Are More Popular: I think that happier-sounding songs are liked more by people. I will check if songs with higher happiness levels are more popular in my analysis."
      ],
      "metadata": {
        "id": "np8YLFDyQPPs"
      }
    },
    {
      "cell_type": "code",
      "execution_count": 9,
      "metadata": {
        "id": "RPY2dYeNFjrg"
      },
      "outputs": [],
      "source": [
        "# Install Spark 3.5.0\n",
        "!apt-get install openjdk-8-jdk-headless -qq > /dev/null\n",
        "!wget -q https://archive.apache.org/dist/spark/spark-3.5.0/spark-3.5.0-bin-hadoop3.tgz\n",
        "!tar xf spark-3.5.0-bin-hadoop3.tgz"
      ]
    },
    {
      "cell_type": "code",
      "execution_count": 10,
      "metadata": {
        "id": "qaNmXxGrFuCD"
      },
      "outputs": [],
      "source": [
        "# Set Environment Variables\n",
        "import os\n",
        "os.environ[\"JAVA_HOME\"] = \"/usr/lib/jvm/java-8-openjdk-amd64\"\n",
        "os.environ[\"SPARK_HOME\"] = \"/content/spark-3.5.0-bin-hadoop3\""
      ]
    },
    {
      "cell_type": "code",
      "execution_count": 11,
      "metadata": {
        "id": "bYtoDOcLF8yq"
      },
      "outputs": [],
      "source": [
        "# Install findspark\n",
        "!python -m pip install -q findspark"
      ]
    },
    {
      "cell_type": "code",
      "execution_count": 12,
      "metadata": {
        "id": "eC2B2r4myN2d"
      },
      "outputs": [],
      "source": [
        "import findspark\n",
        "findspark.init()"
      ]
    },
    {
      "cell_type": "code",
      "execution_count": 13,
      "metadata": {
        "id": "VU8kC2nJTUdB"
      },
      "outputs": [],
      "source": [
        "from pyspark.sql import SparkSession"
      ]
    },
    {
      "cell_type": "code",
      "execution_count": 14,
      "metadata": {
        "id": "mAlndDJyDuag"
      },
      "outputs": [],
      "source": [
        "APP_NAME = \"Final Project\""
      ]
    },
    {
      "cell_type": "code",
      "execution_count": 15,
      "metadata": {
        "id": "flNZrdlNDuas"
      },
      "outputs": [],
      "source": [
        "spark = SparkSession.builder.appName(APP_NAME).getOrCreate()"
      ]
    },
    {
      "cell_type": "code",
      "execution_count": 16,
      "metadata": {
        "id": "MTEXZ7oBUQsh",
        "colab": {
          "base_uri": "https://localhost:8080/",
          "height": 222
        },
        "outputId": "20266511-a60d-4c4d-b5fa-41cc9ce52b06"
      },
      "outputs": [
        {
          "output_type": "execute_result",
          "data": {
            "text/plain": [
              "<pyspark.sql.session.SparkSession at 0x7be0803a2590>"
            ],
            "text/html": [
              "\n",
              "            <div>\n",
              "                <p><b>SparkSession - in-memory</b></p>\n",
              "                \n",
              "        <div>\n",
              "            <p><b>SparkContext</b></p>\n",
              "\n",
              "            <p><a href=\"http://ebf3efe46ce4:4040\">Spark UI</a></p>\n",
              "\n",
              "            <dl>\n",
              "              <dt>Version</dt>\n",
              "                <dd><code>v3.1.1</code></dd>\n",
              "              <dt>Master</dt>\n",
              "                <dd><code>local[*]</code></dd>\n",
              "              <dt>AppName</dt>\n",
              "                <dd><code>SpotifyXGBoostPrediction</code></dd>\n",
              "            </dl>\n",
              "        </div>\n",
              "        \n",
              "            </div>\n",
              "        "
            ]
          },
          "metadata": {},
          "execution_count": 16
        }
      ],
      "source": [
        "spark"
      ]
    },
    {
      "cell_type": "markdown",
      "source": [
        "# Reading File From GCS Bucket"
      ],
      "metadata": {
        "id": "DqQuzJvDOoY3"
      }
    },
    {
      "cell_type": "code",
      "source": [
        "# Authenticate.\n",
        "from google.colab import auth\n",
        "auth.authenticate_user()\n",
        "\n",
        "# Install Cloud Storage FUSE.\n",
        "!echo \"deb https://packages.cloud.google.com/apt gcsfuse-`lsb_release -c -s` main\" | sudo tee /etc/apt/sources.list.d/gcsfuse.list\n",
        "!curl https://packages.cloud.google.com/apt/doc/apt-key.gpg | sudo apt-key add -\n",
        "!apt -qq update && apt -qq install gcsfuse"
      ],
      "metadata": {
        "id": "F-28yEunNthw",
        "outputId": "8639fba0-510b-468e-c748-18341e57e0fe",
        "colab": {
          "base_uri": "https://localhost:8080/"
        }
      },
      "execution_count": 17,
      "outputs": [
        {
          "output_type": "stream",
          "name": "stdout",
          "text": [
            "deb https://packages.cloud.google.com/apt gcsfuse-jammy main\n",
            "  % Total    % Received % Xferd  Average Speed   Time    Time     Time  Current\n",
            "                                 Dload  Upload   Total   Spent    Left  Speed\n",
            "  0     0    0     0    0     0      0      0 --:--:-- --:--:-- --:--:--     0Warning: apt-key is deprecated. Manage keyring files in trusted.gpg.d instead (see apt-key(8)).\n",
            "100  2659  100  2659    0     0  14359      0 --:--:-- --:--:-- --:--:-- 14295\n",
            "OK\n",
            "38 packages can be upgraded. Run 'apt list --upgradable' to see them.\n",
            "\u001b[1;33mW: \u001b[0mhttps://packages.cloud.google.com/apt/dists/gcsfuse-jammy/InRelease: Key is stored in legacy trusted.gpg keyring (/etc/apt/trusted.gpg), see the DEPRECATION section in apt-key(8) for details.\u001b[0m\n",
            "gcsfuse is already the newest version (2.0.0).\n",
            "0 upgraded, 0 newly installed, 0 to remove and 38 not upgraded.\n"
          ]
        }
      ]
    },
    {
      "cell_type": "code",
      "source": [
        "# Mount a Cloud Storage bucket or location, without the gs:// prefix.\n",
        "bucket_name = 'dsci632-final-project'\n",
        "local_path = f\"/content/gcs/{bucket_name}\"\n",
        "\n",
        "!mkdir -p {local_path}\n",
        "!gcsfuse --implicit-dirs {bucket_name} {local_path}"
      ],
      "metadata": {
        "id": "czncZbFNNygB",
        "outputId": "04304dd5-2ac8-42f0-fd1b-fd7af260a627",
        "colab": {
          "base_uri": "https://localhost:8080/"
        }
      },
      "execution_count": 18,
      "outputs": [
        {
          "output_type": "stream",
          "name": "stdout",
          "text": [
            "{\"time\":\"16/03/2024 11:27:39.337850\",\"severity\":\"INFO\",\"message\":\"Start gcsfuse/2.0.0 (Go version go1.22.1) for app \\\"\\\" using mount point: /content/gcs/dsci632-final-project\\n\"}\n",
            "{\"time\":\"16/03/2024 11:27:39.338206\",\"severity\":\"INFO\",\"message\":\"GCSFuse mount command flags: {\\\"AppName\\\":\\\"\\\",\\\"Foreground\\\":false,\\\"ConfigFile\\\":\\\"\\\",\\\"MountOptions\\\":{},\\\"DirMode\\\":493,\\\"FileMode\\\":420,\\\"Uid\\\":-1,\\\"Gid\\\":-1,\\\"ImplicitDirs\\\":true,\\\"OnlyDir\\\":\\\"\\\",\\\"RenameDirLimit\\\":0,\\\"CustomEndpoint\\\":null,\\\"BillingProject\\\":\\\"\\\",\\\"KeyFile\\\":\\\"\\\",\\\"TokenUrl\\\":\\\"\\\",\\\"ReuseTokenFromUrl\\\":true,\\\"EgressBandwidthLimitBytesPerSecond\\\":-1,\\\"OpRateLimitHz\\\":-1,\\\"SequentialReadSizeMb\\\":200,\\\"MaxRetrySleep\\\":30000000000,\\\"StatCacheCapacity\\\":20460,\\\"StatCacheTTL\\\":60000000000,\\\"TypeCacheTTL\\\":60000000000,\\\"HttpClientTimeout\\\":0,\\\"MaxRetryDuration\\\":-1000000000,\\\"RetryMultiplier\\\":2,\\\"LocalFileCache\\\":false,\\\"TempDir\\\":\\\"\\\",\\\"ClientProtocol\\\":\\\"http1\\\",\\\"MaxConnsPerHost\\\":100,\\\"MaxIdleConnsPerHost\\\":100,\\\"EnableNonexistentTypeCache\\\":false,\\\"StackdriverExportInterval\\\":0,\\\"OtelCollectorAddress\\\":\\\"\\\",\\\"LogFile\\\":\\\"\\\",\\\"LogFormat\\\":\\\"json\\\",\\\"ExperimentalEnableJsonRead\\\":false,\\\"DebugFuseErrors\\\":true,\\\"DebugFuse\\\":false,\\\"DebugFS\\\":false,\\\"DebugGCS\\\":false,\\\"DebugHTTP\\\":false,\\\"DebugInvariants\\\":false,\\\"DebugMutex\\\":false}\"}\n",
            "{\"time\":\"16/03/2024 11:27:39.338323\",\"severity\":\"INFO\",\"message\":\"GCSFuse mount config flags: {\\\"CreateEmptyFile\\\":false,\\\"Severity\\\":\\\"INFO\\\",\\\"Format\\\":\\\"json\\\",\\\"FilePath\\\":\\\"\\\",\\\"LogRotateConfig\\\":{\\\"MaxFileSizeMB\\\":512,\\\"BackupFileCount\\\":10,\\\"Compress\\\":true},\\\"MaxSizeMB\\\":-1,\\\"CacheFileForRangeRead\\\":false,\\\"CacheDir\\\":\\\"\\\",\\\"TtlInSeconds\\\":-9223372036854775808,\\\"TypeCacheMaxSizeMB\\\":4,\\\"StatCacheMaxSizeMB\\\":-9223372036854775808,\\\"EnableEmptyManagedFolders\\\":false}\"}\n",
            "{\"time\":\"16/03/2024 11:27:39.506568\",\"severity\":\"INFO\",\"message\":\"File system has been successfully mounted.\"}\n"
          ]
        }
      ]
    },
    {
      "cell_type": "code",
      "source": [
        "!ls -lh /content/gcs/"
      ],
      "metadata": {
        "id": "Q7sKJlJZN-Ya",
        "outputId": "b4da11aa-aede-4f1a-bacc-ed8ae1d39b8b",
        "colab": {
          "base_uri": "https://localhost:8080/"
        }
      },
      "execution_count": 19,
      "outputs": [
        {
          "output_type": "stream",
          "name": "stdout",
          "text": [
            "total 0\n",
            "drwxr-xr-x 1 root root 0 Mar 16 23:27 dsci632-final-project\n"
          ]
        }
      ]
    },
    {
      "cell_type": "code",
      "execution_count": 20,
      "metadata": {
        "id": "dEVF3_VSy2wN",
        "colab": {
          "base_uri": "https://localhost:8080/"
        },
        "outputId": "2b32e81d-7365-4534-dafd-e32bd9ed8508"
      },
      "outputs": [
        {
          "output_type": "stream",
          "name": "stdout",
          "text": [
            "+------------+--------------------+------------------+-----------+-------+--------+--------------------+----------------+---+--------+-------------------+----+--------------------+----------+------------+--------------------+-----------------+-------------------+----+\n",
            "|acousticness|             artists|      danceability|duration_ms| energy|explicit|                  id|instrumentalness|key|liveness|           loudness|mode|                name|popularity|release_date|         speechiness|            tempo|            valence|year|\n",
            "+------------+--------------------+------------------+-----------+-------+--------+--------------------+----------------+---+--------+-------------------+----+--------------------+----------+------------+--------------------+-----------------+-------------------+----+\n",
            "|       0.995| ['Carl Woitschach']|             0.708|     158648|  0.195|       0|6KbQ3uYMLKb5jDxLF...|           0.563| 10|   0.151|            -12.428|   1|Singende Bataillo...|         0|        1928|              0.0506|          118.469|              0.779|1928|\n",
            "|       0.994|['Robert Schumann...|             0.379|     282133| 0.0135|       0|6KuQTIu1KoTTkLXKr...|           0.901|  8|  0.0763|            -28.454|   1|Fantasiestücke, O...|         0|        1928|              0.0462|83.97200000000002|             0.0767|1928|\n",
            "|       0.604|['Seweryn Goszczy...|0.7490000000000001|     104300|   0.22|       0|6L63VW0PibdM1HDSB...|             0.0|  5|   0.119|            -19.924|   0|Chapter 1.18 - Za...|         0|        1928|               0.929|          107.177|               0.88|1928|\n",
            "|       0.995|['Francisco Canaro']|0.7809999999999999|     180760|   0.13|       0|6M94FkXd15sOAOQYR...|           0.887|  1|   0.111|-14.734000000000002|   0|Bebamos Juntos - ...|         0|  1928-09-25|              0.0926|          108.003|               0.72|1928|\n",
            "|        0.99|['Frédéric Chopin...|              0.21|     687733|  0.204|       0|6N6tiFZ9vLTSOIxkj...|           0.908| 11|   0.098|            -16.829|   1|Polonaise-Fantais...|         1|        1928|              0.0424|           62.149|             0.0693|1928|\n",
            "|       0.995|['Felix Mendelsso...|             0.424|     352600|   0.12|       0|6NxAf7M8DNHOBTmEd...|           0.911|  6|  0.0915|            -19.242|   0|Scherzo a capricc...|         0|        1928|              0.0593|           63.521|              0.266|1928|\n",
            "|       0.956|['Franz Liszt', '...|             0.444|     136627|  0.197|       0|6O0puPuyrxPjDTHDU...|           0.435| 11|  0.0744|            -17.226|   1|Valse oubliée No....|         0|        1928|                0.04|           80.495|              0.305|1928|\n",
            "|       0.988| ['Carl Woitschach']|             0.555|     153967|  0.421|       0|6OJjveoYwJdIt76y0...|           0.836|  1|   0.105|             -9.878|   1| Per aspera ad astra|         0|        1928|              0.0474|           123.31|              0.857|1928|\n",
            "|       0.995|['Francisco Canar...|0.6829999999999999|     162493|  0.207|       0|6OaJ8Bh7lsBeYoBmw...|           0.206|  9|   0.337|             -9.801|   0|Moneda Corriente ...|         0|  1928-10-03|               0.127|          119.833|              0.493|1928|\n",
            "|       0.846|['Seweryn Goszczy...|             0.674|     111600|  0.205|       0|6PrZexNb16cabXR8Q...|             0.0|  9|    0.17|            -20.119|   1|Chapter 1.3 - Zam...|         0|        1928|               0.954|           81.249|              0.759|1928|\n",
            "|       0.994|['Sergei Rachmani...|             0.376|     590293| 0.0719|       0|6QBInZBkQNIQYU9gG...|           0.883| 10|   0.196|            -21.849|   0|Piano Sonata No. ...|         0|        1928|              0.0352|           141.39|             0.0393|1928|\n",
            "|       0.989|['Frédéric Chopin...|              0.17|      85133| 0.0823|       0|6QIONtzbQCbnmWNwn...|           0.911| 10|  0.0962|            -30.107|   0|Piano Sonata No. ...|         1|        1928|              0.0317|85.98899999999998|0.34600000000000003|1928|\n",
            "|        0.99|['Samuel Barber',...|             0.359|     338333| 0.0435|       0|6QgdUySTRGVkNo3Kw...|           0.899|  7|   0.109|            -20.858|   1|Piano Sonata in E...|         0|        1928|              0.0424|           96.645|              0.042|1928|\n",
            "|       0.992|['Robert Schumann...|             0.311|     167333| 0.0107|       0|6RvSNoCPBZeTR2LyG...|           0.883|  5|  0.0954|            -35.648|   1|Nachtstücke, Op. ...|         0|        1928|              0.0556|            78.98|0.21600000000000005|1928|\n",
            "|       0.977|['Ludwig van Beet...|             0.335|     276563|  0.105|       0|6Rwn56jcC0TdGQzbR...|            0.84|  5|   0.231|            -16.049|   0|Symphony No. 5 in...|         0|  1928-01-01|              0.0716|           80.204|              0.406|1928|\n",
            "|       0.991|['George Butterwo...|             0.319|     184840|0.00593|       0|6Sdpmree8xpGWaedA...|        6.35e-05|  7|  0.0691|            -25.789|   0|A Shropshire Lad:...|         0|        1928|               0.051|           79.831|0.16899999999999998|1928|\n",
            "|       0.996|['Alexander Scria...|             0.319|     326067|  0.155|       0|6T0mZB7p3qzOifdXZ...|           0.917|  4|   0.126|            -18.728|   1|Sonata No. 3, Op....|         0|        1928|0.036000000000000004|           66.947|             0.0488|1928|\n",
            "|       0.994|['Francisco Canar...|             0.787|     167107|  0.156|       0|6TFuAErGpJ9FpxQQ1...|           0.659|  4|    0.11|            -14.056|   0|Invocación al Tan...|         0|  1928-09-16|               0.157|          117.167| 0.8490000000000001|1928|\n",
            "|       0.993|['Thomas Arne', '...|             0.569|     122533|   0.15|       0|6UUfiNT82MWBNnmsE...|          0.0015|  5|   0.106|            -15.238|   1| Where the Bee Sucks|         0|        1928|              0.0474|            76.93|              0.596|1928|\n",
            "|       0.992|['Francisco Canaro']|             0.763|     173707|  0.132|       0|6Ukl7n0q3Cjd0Og8u...|          0.0693|  4|   0.112|            -13.002|   1|Tendrás Que Llora...|         0|  1928-09-17|              0.0886|          111.679| 0.8320000000000001|1928|\n",
            "+------------+--------------------+------------------+-----------+-------+--------+--------------------+----------------+---+--------+-------------------+----+--------------------+----------+------------+--------------------+-----------------+-------------------+----+\n",
            "only showing top 20 rows\n",
            "\n"
          ]
        }
      ],
      "source": [
        "from pyspark.sql import SparkSession\n",
        "from pyspark.sql.functions import col\n",
        "\n",
        "\n",
        "# Read the CSV file directly from GCS\n",
        "\n",
        "file_path = \"/content/gcs/dsci632-final-project/spotify.csv\"\n",
        "spotify_df= spark.read.csv(file_path, header=True, inferSchema=True)\n",
        "\n",
        "\n",
        "# Show the resulting DataFrame\n",
        "spotify_df.show()\n"
      ]
    },
    {
      "cell_type": "markdown",
      "source": [
        "#Schema of the Dataset:"
      ],
      "metadata": {
        "id": "jOx0xizGRw0j"
      }
    },
    {
      "cell_type": "code",
      "source": [
        "spotify_df.printSchema()\n"
      ],
      "metadata": {
        "colab": {
          "base_uri": "https://localhost:8080/"
        },
        "id": "8P02dvSPRzlT",
        "outputId": "8f858951-42c5-4528-ed45-0587296584be"
      },
      "execution_count": 21,
      "outputs": [
        {
          "output_type": "stream",
          "name": "stdout",
          "text": [
            "root\n",
            " |-- acousticness: double (nullable = true)\n",
            " |-- artists: string (nullable = true)\n",
            " |-- danceability: string (nullable = true)\n",
            " |-- duration_ms: string (nullable = true)\n",
            " |-- energy: string (nullable = true)\n",
            " |-- explicit: string (nullable = true)\n",
            " |-- id: string (nullable = true)\n",
            " |-- instrumentalness: string (nullable = true)\n",
            " |-- key: string (nullable = true)\n",
            " |-- liveness: string (nullable = true)\n",
            " |-- loudness: string (nullable = true)\n",
            " |-- mode: string (nullable = true)\n",
            " |-- name: string (nullable = true)\n",
            " |-- popularity: string (nullable = true)\n",
            " |-- release_date: string (nullable = true)\n",
            " |-- speechiness: string (nullable = true)\n",
            " |-- tempo: string (nullable = true)\n",
            " |-- valence: string (nullable = true)\n",
            " |-- year: string (nullable = true)\n",
            "\n"
          ]
        }
      ]
    },
    {
      "cell_type": "markdown",
      "source": [
        "#Explanation of Relevant Features:"
      ],
      "metadata": {
        "id": "eRhS-aMNR4Fr"
      }
    },
    {
      "cell_type": "markdown",
      "source": [
        "1. acousticness: How acoustic a song is.\n",
        "\n",
        "2. artists: Who performed the song.\n",
        "\n",
        "3. danceability: If a song is good for dancing.\n",
        "\n",
        "4. duration_ms: Length of the song.\n",
        "\n",
        "5. energy: How intense a song is.\n",
        "\n",
        "6. explicit: If the song has explicit lyrics.\n",
        "\n",
        "7. id: Song's unique Spotify ID.\n",
        "\n",
        "8. instrumentalness: If the song has no vocals.\n",
        "\n",
        "9. key: Musical key of the song.\n",
        "\n",
        "10. liveness: If the recording was live.\n",
        "\n",
        "11. loudness: Volume of the song.\n",
        "\n",
        "12. mode: Major or minor scale.\n",
        "\n",
        "13. name: Title of the song.\n",
        "\n",
        "14. popularity: Song's popularity on Spotify.\n",
        "\n",
        "15. release_date: When the song was released.\n",
        "\n",
        "16. speechiness: Presence of spoken words.\n",
        "\n",
        "17. tempo: Speed of the song (BPM).\n",
        "\n",
        "18. valence: Musical mood positivity.\n",
        "\n",
        "19. year: Year the song was released."
      ],
      "metadata": {
        "id": "IyzRz_0CS9uU"
      }
    },
    {
      "cell_type": "markdown",
      "source": [
        "#Histograms of Relevant Features:"
      ],
      "metadata": {
        "id": "xljx--Q1SH-8"
      }
    },
    {
      "cell_type": "code",
      "source": [
        "from pyspark.sql.types import FloatType\n",
        "\n",
        "df = spotify_df.withColumn(\"danceability\", spotify_df[\"danceability\"].cast(FloatType())) \\\n",
        "       .withColumn(\"energy\", spotify_df[\"energy\"].cast(FloatType())) \\\n",
        "       .withColumn(\"valence\",spotify_df[\"valence\"].cast(FloatType())) \\\n",
        "       .withColumn(\"popularity\", spotify_df[\"popularity\"].cast(FloatType()))\n",
        "# Assuming you have already installed Pandas and Matplotlib\n",
        "import pandas as pd\n",
        "import matplotlib.pyplot as plt\n",
        "\n",
        "# Convert to Pandas DataFrame for plotting\n",
        "pandas_df = df.select(\"danceability\", \"energy\", \"valence\", \"popularity\").toPandas()\n",
        "\n",
        "# Plotting\n",
        "pandas_df.hist(figsize=[12, 8], bins=15, grid=False)\n",
        "plt.show()\n",
        "\n"
      ],
      "metadata": {
        "colab": {
          "base_uri": "https://localhost:8080/",
          "height": 699
        },
        "id": "jwg2YdMESLje",
        "outputId": "7e1beefc-1deb-4843-8b5b-f197dc33064f"
      },
      "execution_count": 22,
      "outputs": [
        {
          "output_type": "display_data",
          "data": {
            "text/plain": [
              "<Figure size 1200x800 with 4 Axes>"
            ],
            "image/png": "[encoded data removed]"
          },
          "metadata": {}
        }
      ]
    },
    {
      "cell_type": "markdown",
      "metadata": {
        "id": "rec_dnCWeQ5R"
      },
      "source": [
        "#Use Spark SQL or built-in methods to show a range of values"
      ]
    },
    {
      "cell_type": "code",
      "execution_count": 23,
      "metadata": {
        "id": "fGkXOAI7eLRg",
        "colab": {
          "base_uri": "https://localhost:8080/"
        },
        "outputId": "b31ceabb-2b30-4cf7-efc6-e5a95aea98a9"
      },
      "outputs": [
        {
          "output_type": "stream",
          "name": "stdout",
          "text": [
            "+----------------+----------------+----------+----------+-----------+-----------+-----------------+--------------------+--------------+--------------+\n",
            "|min_danceability|max_danceability|min_energy|max_energy|min_valence|max_valence|        min_tempo|           max_tempo|min_popularity|max_popularity|\n",
            "+----------------+----------------+----------+----------+-----------+-----------+-----------------+--------------------+--------------+--------------+\n",
            "|             0.0|           0.988|       0.0| 1622000.0|        0.0|   538760.0| 'José Feliciano'|When Your Lover H...|        -35.69|         100.0|\n",
            "+----------------+----------------+----------+----------+-----------+-----------+-----------------+--------------------+--------------+--------------+\n",
            "\n"
          ]
        }
      ],
      "source": [
        "# Create a temporary view\n",
        "df.createOrReplaceTempView(\"spotify_data\")\n",
        "\n",
        "# Query the range of numerical values using Spark SQL\n",
        "spark.sql(\"\"\"\n",
        "    SELECT\n",
        "        MIN(danceability) AS min_danceability,\n",
        "        MAX(danceability) AS max_danceability,\n",
        "        MIN(energy) AS min_energy,\n",
        "        MAX(energy) AS max_energy,\n",
        "        MIN(valence) AS min_valence,\n",
        "        MAX(valence) AS max_valence,\n",
        "        MIN(tempo) AS min_tempo,\n",
        "        MAX(tempo) AS max_tempo,\n",
        "        MIN(popularity) AS min_popularity,\n",
        "        MAX(popularity) AS max_popularity\n",
        "    FROM spotify_data\n",
        "\"\"\").show()\n"
      ]
    },
    {
      "cell_type": "markdown",
      "metadata": {
        "id": "6-JPG97Ee44L"
      },
      "source": [
        "#Most common words/n-grams found"
      ]
    },
    {
      "cell_type": "code",
      "execution_count": 24,
      "metadata": {
        "id": "T-x3bT_IfyPW",
        "colab": {
          "base_uri": "https://localhost:8080/"
        },
        "outputId": "5f1b6b82-51a5-457d-e107-2d5cb5cdf69d"
      },
      "outputs": [
        {
          "output_type": "stream",
          "name": "stdout",
          "text": [
            "+--------------------+-----+\n",
            "|               ngram|count|\n",
            "+--------------------+-----+\n",
            "|        - remastered| 3790|\n",
            "|              - live| 3682|\n",
            "|     - remasterizado| 2238|\n",
            "|      - instrumental| 1101|\n",
            "|          major, op.| 1064|\n",
            "|          minor, op.|  917|\n",
            "|            - single|  913|\n",
            "|      single version|  855|\n",
            "|             & часть|  767|\n",
            "|               no. 2|  674|\n",
            "|instrumental (rem...|  667|\n",
            "|               no. 1|  641|\n",
            "|              - take|  596|\n",
            "|              love -|  572|\n",
            "|      - триумфальная|  536|\n",
            "|   триумфальная арка|  536|\n",
            "|          sonata no.|  513|\n",
            "|              - 2015|  484|\n",
            "|               no. 3|  479|\n",
            "|       2015 remaster|  471|\n",
            "+--------------------+-----+\n",
            "only showing top 20 rows\n",
            "\n"
          ]
        }
      ],
      "source": [
        "from pyspark.ml.feature import Tokenizer\n",
        "\n",
        "# Create a new Tokenizer object\n",
        "tokenizer = Tokenizer(inputCol=\"name\", outputCol=\"words\")\n",
        "tokenized_df = tokenizer.transform(df)\n",
        "from pyspark.ml.feature import StopWordsRemover\n",
        "\n",
        "# Create a new StopWordsRemover object\n",
        "remover = StopWordsRemover(inputCol=\"words\", outputCol=\"filtered_words\")\n",
        "filtered_df = remover.transform(tokenized_df)\n",
        "from pyspark.ml.feature import NGram\n",
        "\n",
        "# Create a new NGram object\n",
        "ngram = NGram(n=2, inputCol=\"filtered_words\", outputCol=\"ngrams\")\n",
        "ngram_df = ngram.transform(filtered_df)\n",
        "from pyspark.sql.functions import explode, col\n",
        "\n",
        "# Explode the ngrams into a new row for each and count occurrences\n",
        "ngram_counts = ngram_df.withColumn(\"ngram\", explode(\"ngrams\")) \\\n",
        "    .groupBy(\"ngram\") \\\n",
        "    .count() \\\n",
        "    .orderBy(col(\"count\").desc())\n",
        "\n",
        "# Show the most common ngrams\n",
        "ngram_counts.show()\n",
        "\n"
      ]
    },
    {
      "cell_type": "markdown",
      "metadata": {
        "id": "lkA8uDVskKnJ"
      },
      "source": [
        "# Section 2: Clean the data\n",
        "\n",
        "10 points\n",
        "\n",
        "Not every dataset is going to be ready to use right away. Take steps to fix incorrect inputs, remove null values, and assign datatypes that fit each feature.\n",
        "\n",
        "### This section should include one or more of the following:\n",
        "- A count of rows before and after dropping data with null or incorrect values, including an explaination of why removing the rows was necessary in [markdown](https://www.markdownguide.org/cheat-sheet).\n",
        "- Renaming a column, adding a new one, or casting an existing one as a different datatype.\n",
        "- Remove punctuation marks, symbols, etc from the data, and convert all upper-case lettering to lower-case.\n",
        "- Remove or fix rows that have bad values/data."
      ]
    },
    {
      "cell_type": "markdown",
      "source": [
        "#Count Rows Before Cleaning:\n"
      ],
      "metadata": {
        "id": "G_MlqrWnVpWM"
      }
    },
    {
      "cell_type": "code",
      "execution_count": 25,
      "metadata": {
        "id": "EKIBcXZFlM4x",
        "colab": {
          "base_uri": "https://localhost:8080/"
        },
        "outputId": "d0d96fbb-38ea-4c8b-f1f5-4d201e3552f6"
      },
      "outputs": [
        {
          "output_type": "stream",
          "name": "stdout",
          "text": [
            "Original row count: 169909\n"
          ]
        }
      ],
      "source": [
        "original_count = df.count()\n",
        "print(f\"Original row count: {original_count}\")\n",
        "\n"
      ]
    },
    {
      "cell_type": "markdown",
      "source": [
        "# Remove Null or Incorrect Values:"
      ],
      "metadata": {
        "id": "XKC3KF8uXBM5"
      }
    },
    {
      "cell_type": "code",
      "source": [
        "# Remove rows with any null values\n",
        "spotify_clean = df.dropna()\n",
        "clean_count = spotify_clean.count()\n",
        "print(f\"Row count after cleaning: {clean_count}\")\n"
      ],
      "metadata": {
        "colab": {
          "base_uri": "https://localhost:8080/"
        },
        "id": "CuE1HDWaXGEW",
        "outputId": "fbb6cf22-af00-4d2f-fa0d-7116f09971f1"
      },
      "execution_count": 26,
      "outputs": [
        {
          "output_type": "stream",
          "name": "stdout",
          "text": [
            "Row count after cleaning: 168462\n"
          ]
        }
      ]
    },
    {
      "cell_type": "markdown",
      "metadata": {
        "id": "kHsN61uNfzCJ"
      },
      "source": [
        "#Renaming a Column:"
      ]
    },
    {
      "cell_type": "code",
      "source": [
        "spotify_clean = spotify_clean.withColumnRenamed('duration_ms', 'duration_milliseconds') \\\n",
        "       .withColumnRenamed('popularity', 'popularity_score') \\\n",
        "       .withColumnRenamed('id', 'track_id') \\\n",
        "       .withColumnRenamed('key', 'musical_key') \\\n",
        "       .withColumnRenamed('name', 'song_title') \\\n",
        "       .withColumnRenamed('artists', 'performing_artists')\n",
        "spotify_clean.printSchema()\n"
      ],
      "metadata": {
        "colab": {
          "base_uri": "https://localhost:8080/"
        },
        "id": "LrZqFPjSZBzb",
        "outputId": "bf8d01dc-e060-4c70-a6ab-519e41f0e624"
      },
      "execution_count": 27,
      "outputs": [
        {
          "output_type": "stream",
          "name": "stdout",
          "text": [
            "root\n",
            " |-- acousticness: double (nullable = true)\n",
            " |-- performing_artists: string (nullable = true)\n",
            " |-- danceability: float (nullable = true)\n",
            " |-- duration_milliseconds: string (nullable = true)\n",
            " |-- energy: float (nullable = true)\n",
            " |-- explicit: string (nullable = true)\n",
            " |-- track_id: string (nullable = true)\n",
            " |-- instrumentalness: string (nullable = true)\n",
            " |-- musical_key: string (nullable = true)\n",
            " |-- liveness: string (nullable = true)\n",
            " |-- loudness: string (nullable = true)\n",
            " |-- mode: string (nullable = true)\n",
            " |-- song_title: string (nullable = true)\n",
            " |-- popularity_score: float (nullable = true)\n",
            " |-- release_date: string (nullable = true)\n",
            " |-- speechiness: string (nullable = true)\n",
            " |-- tempo: string (nullable = true)\n",
            " |-- valence: float (nullable = true)\n",
            " |-- year: string (nullable = true)\n",
            "\n"
          ]
        }
      ]
    },
    {
      "cell_type": "markdown",
      "source": [
        "#Adding a New Column:\n",
        "##new column indicating whether a song is longer than 3 minutes"
      ],
      "metadata": {
        "id": "Y3v3_MhLceqK"
      }
    },
    {
      "cell_type": "code",
      "source": [
        "from pyspark.sql.functions import col\n",
        "\n",
        "spotify_df = spotify_clean.withColumn('is_long_track', col('duration_milliseconds') > 180000)\n",
        "spotify_df.printSchema()\n"
      ],
      "metadata": {
        "colab": {
          "base_uri": "https://localhost:8080/"
        },
        "id": "VRQu3MIhciOA",
        "outputId": "ff65aa0b-9ddb-4476-f751-47e10c1dec35"
      },
      "execution_count": 28,
      "outputs": [
        {
          "output_type": "stream",
          "name": "stdout",
          "text": [
            "root\n",
            " |-- acousticness: double (nullable = true)\n",
            " |-- performing_artists: string (nullable = true)\n",
            " |-- danceability: float (nullable = true)\n",
            " |-- duration_milliseconds: string (nullable = true)\n",
            " |-- energy: float (nullable = true)\n",
            " |-- explicit: string (nullable = true)\n",
            " |-- track_id: string (nullable = true)\n",
            " |-- instrumentalness: string (nullable = true)\n",
            " |-- musical_key: string (nullable = true)\n",
            " |-- liveness: string (nullable = true)\n",
            " |-- loudness: string (nullable = true)\n",
            " |-- mode: string (nullable = true)\n",
            " |-- song_title: string (nullable = true)\n",
            " |-- popularity_score: float (nullable = true)\n",
            " |-- release_date: string (nullable = true)\n",
            " |-- speechiness: string (nullable = true)\n",
            " |-- tempo: string (nullable = true)\n",
            " |-- valence: float (nullable = true)\n",
            " |-- year: string (nullable = true)\n",
            " |-- is_long_track: boolean (nullable = true)\n",
            "\n"
          ]
        }
      ]
    },
    {
      "cell_type": "markdown",
      "source": [
        "#Cast the columns that are incorrectly typed as strings"
      ],
      "metadata": {
        "id": "HLycip-ZdOGS"
      }
    },
    {
      "cell_type": "code",
      "source": [
        "from pyspark.sql.types import DoubleType, IntegerType\n",
        "\n",
        "# Casting columns from string to double where appropriate\n",
        "double_type_columns = ['danceability', 'energy', 'instrumentalness',\n",
        "                       'liveness', 'loudness', 'speechiness', 'tempo', 'valence']\n",
        "for column in double_type_columns:\n",
        "    spotify_df = spotify_df.withColumn(column, spotify_df[column].cast(DoubleType()))\n",
        "\n",
        "# Casting 'duration_milliseconds' and 'popularity_score' to integers\n",
        "spotify_df = spotify_df.withColumn('duration_milliseconds', spotify_df['duration_milliseconds'].cast(IntegerType())) \\\n",
        "                       .withColumn('popularity_score', spotify_df['popularity_score'].cast(IntegerType()))\n",
        "\n",
        "# Casting 'year' to integer\n",
        "spotify_df = spotify_df.withColumn('year', spotify_df['year'].cast(IntegerType()))\n",
        "spotify_df.printSchema()"
      ],
      "metadata": {
        "colab": {
          "base_uri": "https://localhost:8080/"
        },
        "id": "YdiSL9FddOqj",
        "outputId": "3f601834-737b-49b8-8415-8fc2c46b84a3"
      },
      "execution_count": 29,
      "outputs": [
        {
          "output_type": "stream",
          "name": "stdout",
          "text": [
            "root\n",
            " |-- acousticness: double (nullable = true)\n",
            " |-- performing_artists: string (nullable = true)\n",
            " |-- danceability: double (nullable = true)\n",
            " |-- duration_milliseconds: integer (nullable = true)\n",
            " |-- energy: double (nullable = true)\n",
            " |-- explicit: string (nullable = true)\n",
            " |-- track_id: string (nullable = true)\n",
            " |-- instrumentalness: double (nullable = true)\n",
            " |-- musical_key: string (nullable = true)\n",
            " |-- liveness: double (nullable = true)\n",
            " |-- loudness: double (nullable = true)\n",
            " |-- mode: string (nullable = true)\n",
            " |-- song_title: string (nullable = true)\n",
            " |-- popularity_score: integer (nullable = true)\n",
            " |-- release_date: string (nullable = true)\n",
            " |-- speechiness: double (nullable = true)\n",
            " |-- tempo: double (nullable = true)\n",
            " |-- valence: double (nullable = true)\n",
            " |-- year: integer (nullable = true)\n",
            " |-- is_long_track: boolean (nullable = true)\n",
            "\n"
          ]
        }
      ]
    },
    {
      "cell_type": "code",
      "source": [
        "from pyspark.sql.functions import lower, regexp_replace\n",
        "\n",
        "# Update the regular expression to keep alphanumeric characters, spaces, and the '@' symbol\n",
        "# while converting text to lower case for 'performing_artists' and 'song_title'\n",
        "spotify_df = spotify_df.withColumn('performing_artists', lower(regexp_replace('performing_artists', '[^a-zA-Z0-9@\\\\s]', ''))) \\\n",
        "                       .withColumn('song_title', lower(regexp_replace('song_title', '[^a-zA-Z0-9@\\\\s]', '')))\n",
        "\n",
        "spotify_df.head()"
      ],
      "metadata": {
        "colab": {
          "base_uri": "https://localhost:8080/"
        },
        "id": "lmQ2dfVrduhq",
        "outputId": "4b90e6fc-e3ab-4f5e-e609-e7791237ee89"
      },
      "execution_count": 31,
      "outputs": [
        {
          "output_type": "execute_result",
          "data": {
            "text/plain": [
              "Row(acousticness=0.995, performing_artists='carl woitschach', danceability=0.7080000042915344, duration_milliseconds=158648, energy=0.19499999284744263, explicit='0', track_id='6KbQ3uYMLKb5jDxLF7wYDD', instrumentalness=0.563, musical_key='10', liveness=0.151, loudness=-12.428, mode='1', song_title='singende bataillone 1 teil', popularity_score=0, release_date='1928', speechiness=0.0506, tempo=118.469, valence=0.7789999842643738, year=1928, is_long_track=False)"
            ]
          },
          "metadata": {},
          "execution_count": 31
        }
      ]
    },
    {
      "cell_type": "markdown",
      "source": [
        "#Remove or fix rows that have bad values/data."
      ],
      "metadata": {
        "id": "CVRx5SX3gr86"
      }
    },
    {
      "cell_type": "code",
      "execution_count": 32,
      "metadata": {
        "id": "PkR_fLU5tlUg",
        "colab": {
          "base_uri": "https://localhost:8080/"
        },
        "outputId": "4614631b-b8d5-43f9-8cdf-5ad9fd9bcceb"
      },
      "outputs": [
        {
          "output_type": "execute_result",
          "data": {
            "text/plain": [
              "168462"
            ]
          },
          "metadata": {},
          "execution_count": 32
        }
      ],
      "source": [
        "from pyspark.sql.functions import col\n",
        "\n",
        "# Example: Remove songs where 'energy' is less than 0 or greater than 1\n",
        "spotify_df = spotify_df.filter((col('energy') >= 0) & (col('energy') <= 1))\n",
        "\n",
        "# Example: Remove songs where 'duration_milliseconds' is negative\n",
        "spotify_df = spotify_df.filter(col('duration_milliseconds') >= 0)\n",
        "spotify_df.count()\n"
      ]
    },
    {
      "cell_type": "markdown",
      "source": [
        "# Section 3: Transform the clean data\n",
        "\n",
        "10 points\n",
        "\n",
        "Once you have clean data, start to prepare it to fit your analysis tools. This might mean using custom code to normalize certain values, joining supplemental datasets, and/or preparing it for machine learning.\n",
        "\n",
        "### This section should include one or more of the following:\n",
        "- Write a UDF to perform a function, then use it to add a new column to your data. Explain why in [markdown](https://www.markdownguide.org/cheat-sheet)\n",
        "- Join an outside data source. (It can be one you've prepared alongside the primary source you're using, as long as you link it)\n",
        "- Split the data into train/test sets\n",
        "- Create vectors for relavent features\n",
        "- One-hot encode catagorical variables"
      ],
      "metadata": {
        "id": "_PMyrIw1g3jn"
      }
    },
    {
      "cell_type": "markdown",
      "metadata": {
        "id": "XQU6JFLZgL_6"
      },
      "source": [
        "# Using a UDF to Add a New Column:"
      ]
    },
    {
      "cell_type": "code",
      "execution_count": 34,
      "metadata": {
        "id": "m-ckPkLhmNBH"
      },
      "outputs": [],
      "source": [
        "from pyspark.sql.functions import udf\n",
        "from pyspark.sql.types import StringType\n",
        "\n",
        "# Define the UDF\n",
        "def classify_tempo(tempo):\n",
        "    if tempo < 60:\n",
        "        return 'Slow'\n",
        "    elif tempo <= 120:\n",
        "        return 'Medium'\n",
        "    else:\n",
        "        return 'Fast'\n",
        "\n",
        "# Register the UDF\n",
        "classify_tempo_udf = udf(classify_tempo, StringType())\n",
        "\n",
        "# Apply the UDF to create a new 'tempo_category' column\n",
        "spotify_df = spotify_df.withColumn('tempo_category', classify_tempo_udf(col('tempo')))\n",
        "\n",
        "\n"
      ]
    },
    {
      "cell_type": "markdown",
      "source": [
        "#Creating Feature Vectors:\n",
        "##Combining relevant features into a single vector column simplifies the usage of PySpark's MLlib utilities and prepares the data for machine learning algorithms."
      ],
      "metadata": {
        "id": "I9tcoGljiT9V"
      }
    },
    {
      "cell_type": "markdown",
      "source": [
        "#One-hot Encoding Categorical Variables:"
      ],
      "metadata": {
        "id": "drNxO9t-imID"
      }
    },
    {
      "cell_type": "code",
      "source": [
        "from pyspark.sql import SparkSession\n",
        "from pyspark.ml import Pipeline\n",
        "from pyspark.ml.feature import VectorAssembler, StandardScaler, StringIndexer, OneHotEncoder\n",
        "from pyspark.sql.functions import col  # Importing col for data type conversion\n",
        "\n",
        "# Initialize Spark Session\n",
        "spark = SparkSession.builder.appName('SpotifyPopularityPrediction').getOrCreate()\n",
        "\n",
        "# Load your data\n",
        "df = spark.read.csv(file_path, header=True, inferSchema=True)  # Replace 'file_path' with the actual file path\n",
        "\n",
        "# Convert all string-type numeric columns to float. This resolves issues related to unsupported data types.\n",
        "numeric_columns = ['acousticness', 'danceability', 'duration_ms', 'energy', 'explicit',\n",
        "                   'instrumentalness', 'liveness', 'loudness', 'mode', 'speechiness', 'tempo', 'valence', 'year']\n",
        "for col_name in numeric_columns:\n",
        "    df = df.withColumn(col_name, col(col_name).cast('float'))\n",
        "df = df.withColumn('popularity', col('popularity').cast('float'))\n",
        "df = df.dropna()\n",
        "# Check the schema to ensure all columns are of correct data type\n",
        "df.printSchema()\n",
        "\n",
        "# Assuming 'key' is a categorical feature; if you don't have categorical features, you can remove StringIndexer and OneHotEncoder\n",
        "indexer = StringIndexer(inputCol=\"key\", outputCol=\"keyIndex\").setHandleInvalid(\"skip\")  # Adding error handling\n",
        "encoder = OneHotEncoder(inputCols=[\"keyIndex\"], outputCols=[\"keyVec\"])\n",
        "\n",
        "# Assembling numeric features and encoded categorical features into a single features vector\n",
        "assembler = VectorAssembler(inputCols=numeric_columns + ['keyVec'], outputCol=\"rawFeatures\")\n",
        "\n",
        "# Apply StandardScaler to the assembled vector\n",
        "scaler = StandardScaler(inputCol=\"rawFeatures\", outputCol=\"features\", withStd=True, withMean=False)\n",
        "\n",
        "# Create a pipeline for feature transformation\n",
        "featurePipeline = Pipeline(stages=[indexer, encoder, assembler, scaler])\n",
        "\n",
        "# Apply the pipeline to transform the original data\n",
        "processedData = featurePipeline.fit(df).transform(df)\n",
        "\n",
        "# Now split the transformed data into training and testing sets\n",
        "train_data_ml, test_data_ml = processedData.randomSplit([0.8, 0.2], seed=42)\n"
      ],
      "metadata": {
        "colab": {
          "base_uri": "https://localhost:8080/",
          "height": 219
        },
        "id": "di8BQlUej2c7",
        "outputId": "9a9f4c60-5f54-4dfa-8c58-faceb883844c"
      },
      "execution_count": 8,
      "outputs": [
        {
          "output_type": "error",
          "ename": "NameError",
          "evalue": "name 'file_path' is not defined",
          "traceback": [
            "\u001b[0;31m---------------------------------------------------------------------------\u001b[0m",
            "\u001b[0;31mNameError\u001b[0m                                 Traceback (most recent call last)",
            "\u001b[0;32m<ipython-input-8-fed54856728f>\u001b[0m in \u001b[0;36m<cell line: 10>\u001b[0;34m()\u001b[0m\n\u001b[1;32m      8\u001b[0m \u001b[0;34m\u001b[0m\u001b[0m\n\u001b[1;32m      9\u001b[0m \u001b[0;31m# Load your data\u001b[0m\u001b[0;34m\u001b[0m\u001b[0;34m\u001b[0m\u001b[0m\n\u001b[0;32m---> 10\u001b[0;31m \u001b[0mdf\u001b[0m \u001b[0;34m=\u001b[0m \u001b[0mspark\u001b[0m\u001b[0;34m.\u001b[0m\u001b[0mread\u001b[0m\u001b[0;34m.\u001b[0m\u001b[0mcsv\u001b[0m\u001b[0;34m(\u001b[0m\u001b[0mfile_path\u001b[0m\u001b[0;34m,\u001b[0m \u001b[0mheader\u001b[0m\u001b[0;34m=\u001b[0m\u001b[0;32mTrue\u001b[0m\u001b[0;34m,\u001b[0m \u001b[0minferSchema\u001b[0m\u001b[0;34m=\u001b[0m\u001b[0;32mTrue\u001b[0m\u001b[0;34m)\u001b[0m  \u001b[0;31m# Replace 'file_path' with the actual file path\u001b[0m\u001b[0;34m\u001b[0m\u001b[0;34m\u001b[0m\u001b[0m\n\u001b[0m\u001b[1;32m     11\u001b[0m \u001b[0;34m\u001b[0m\u001b[0m\n\u001b[1;32m     12\u001b[0m \u001b[0;31m# Convert all string-type numeric columns to float. This resolves issues related to unsupported data types.\u001b[0m\u001b[0;34m\u001b[0m\u001b[0;34m\u001b[0m\u001b[0m\n",
            "\u001b[0;31mNameError\u001b[0m: name 'file_path' is not defined"
          ]
        }
      ]
    },
    {
      "cell_type": "markdown",
      "source": [
        "# Section 4: Show your analysis of the data\n",
        "\n",
        "10 points\n",
        "\n",
        "This is where the science happens. Use your data to show some kind of insight, and how you got there. Make the reader understand why it's important, and how they can get the same conslusion, and/or what would need to change to reach a different one.\n",
        "\n",
        "### This section should include one or more of the following:\n",
        "- Fit the data to a model\n",
        "- Show the outcome of clustering, regression, and/or classification algorithms.\n",
        " - We used several in class, but you can use whatever fits your needs for this assignment\n",
        "- Reccomend a product/item\n",
        "- Use a SQL query to filter results\n"
      ],
      "metadata": {
        "id": "lrZP8XMMleTa"
      }
    },
    {
      "cell_type": "code",
      "source": [],
      "metadata": {
        "id": "i1cuKrjpahmF",
        "outputId": "fe461885-8237-46b1-bf13-48a3f1522226",
        "colab": {
          "base_uri": "https://localhost:8080/"
        }
      },
      "execution_count": 66,
      "outputs": [
        {
          "output_type": "stream",
          "name": "stdout",
          "text": [
            "root\n",
            " |-- acousticness: float (nullable = true)\n",
            " |-- artists: string (nullable = true)\n",
            " |-- danceability: float (nullable = true)\n",
            " |-- duration_ms: float (nullable = true)\n",
            " |-- energy: float (nullable = true)\n",
            " |-- explicit: float (nullable = true)\n",
            " |-- id: string (nullable = true)\n",
            " |-- instrumentalness: float (nullable = true)\n",
            " |-- key: string (nullable = true)\n",
            " |-- liveness: float (nullable = true)\n",
            " |-- loudness: float (nullable = true)\n",
            " |-- mode: float (nullable = true)\n",
            " |-- name: string (nullable = true)\n",
            " |-- popularity: float (nullable = true)\n",
            " |-- release_date: string (nullable = true)\n",
            " |-- speechiness: float (nullable = true)\n",
            " |-- tempo: float (nullable = true)\n",
            " |-- valence: float (nullable = true)\n",
            " |-- year: float (nullable = true)\n",
            "\n"
          ]
        }
      ]
    },
    {
      "cell_type": "code",
      "source": [
        "from pyspark.ml.regression import RandomForestRegressor\n",
        "from pyspark.ml.evaluation import RegressionEvaluator\n",
        "\n",
        "# Initialize the Random Forest Regressor\n",
        "rf = RandomForestRegressor(featuresCol=\"features\", labelCol=\"popularity\", numTrees=100, seed=42)\n",
        "\n",
        "# Train the model on the training data\n",
        "rf_model = rf.fit(train_data_ml)\n",
        "\n",
        "# Make predictions on the test data\n",
        "rf_predictions = rf_model.transform(test_data_ml)\n",
        "\n",
        "# Evaluate the model's performance\n",
        "rf_evaluator = RegressionEvaluator(labelCol=\"popularity\", predictionCol=\"prediction\", metricName=\"rmse\")\n",
        "rf_rmse = rf_evaluator.evaluate(rf_predictions)\n",
        "print(f'Random Forest RMSE: {rf_rmse}')\n",
        "\n",
        "# You can also evaluate R² (Coefficient of Determination)\n",
        "rf_evaluator.setMetricName(\"r2\")\n",
        "rf_r2 = rf_evaluator.evaluate(rf_predictions)\n",
        "print(f'Random Forest R² score: {rf_r2}')\n"
      ],
      "metadata": {
        "id": "uUTXNCG1cgl7",
        "outputId": "5fce5aaf-af6e-4bac-dfa8-cfc04e8737d7",
        "colab": {
          "base_uri": "https://localhost:8080/",
          "height": 219
        }
      },
      "execution_count": 7,
      "outputs": [
        {
          "output_type": "error",
          "ename": "NameError",
          "evalue": "name 'train_data_ml' is not defined",
          "traceback": [
            "\u001b[0;31m---------------------------------------------------------------------------\u001b[0m",
            "\u001b[0;31mNameError\u001b[0m                                 Traceback (most recent call last)",
            "\u001b[0;32m<ipython-input-7-5ffe240c7b43>\u001b[0m in \u001b[0;36m<cell line: 8>\u001b[0;34m()\u001b[0m\n\u001b[1;32m      6\u001b[0m \u001b[0;34m\u001b[0m\u001b[0m\n\u001b[1;32m      7\u001b[0m \u001b[0;31m# Train the model on the training data\u001b[0m\u001b[0;34m\u001b[0m\u001b[0;34m\u001b[0m\u001b[0m\n\u001b[0;32m----> 8\u001b[0;31m \u001b[0mrf_model\u001b[0m \u001b[0;34m=\u001b[0m \u001b[0mrf\u001b[0m\u001b[0;34m.\u001b[0m\u001b[0mfit\u001b[0m\u001b[0;34m(\u001b[0m\u001b[0mtrain_data_ml\u001b[0m\u001b[0;34m)\u001b[0m\u001b[0;34m\u001b[0m\u001b[0;34m\u001b[0m\u001b[0m\n\u001b[0m\u001b[1;32m      9\u001b[0m \u001b[0;34m\u001b[0m\u001b[0m\n\u001b[1;32m     10\u001b[0m \u001b[0;31m# Make predictions on the test data\u001b[0m\u001b[0;34m\u001b[0m\u001b[0;34m\u001b[0m\u001b[0m\n",
            "\u001b[0;31mNameError\u001b[0m: name 'train_data_ml' is not defined"
          ]
        }
      ]
    },
    {
      "cell_type": "code",
      "source": [
        "from pyspark.ml.regression import DecisionTreeRegressor\n",
        "from pyspark.ml.evaluation import RegressionEvaluator\n",
        "\n",
        "# Initialize the Decision Tree Regressor\n",
        "dt = DecisionTreeRegressor(featuresCol=\"features\", labelCol=\"popularity\")\n",
        "\n",
        "# Train the model on the training data\n",
        "dt_model = dt.fit(train_data_ml)\n",
        "\n",
        "# Make predictions on the test data\n",
        "dt_predictions = dt_model.transform(test_data_ml)\n",
        "\n",
        "# Evaluate the model's performance\n",
        "dt_evaluator = RegressionEvaluator(labelCol=\"popularity\", predictionCol=\"prediction\", metricName=\"rmse\")\n",
        "dt_rmse = dt_evaluator.evaluate(dt_predictions)\n",
        "print(f'Decision Tree RMSE: {dt_rmse}')\n",
        "\n",
        "# You can also evaluate the R² (Coefficient of Determination)\n",
        "dt_evaluator.setMetricName(\"r2\")\n",
        "dt_r2 = dt_evaluator.evaluate(dt_predictions)\n",
        "print(f'Decision Tree R² score: {dt_r2}')\n"
      ],
      "metadata": {
        "id": "891lpNKUeMb2",
        "outputId": "a42dcb0b-b6f9-41bb-88a7-1fb76888b668",
        "colab": {
          "base_uri": "https://localhost:8080/"
        }
      },
      "execution_count": 68,
      "outputs": [
        {
          "output_type": "stream",
          "name": "stdout",
          "text": [
            "Decision Tree RMSE: 9.26058878013161\n",
            "Decision Tree R² score: 0.8154459384136656\n"
          ]
        }
      ]
    },
    {
      "cell_type": "code",
      "source": [
        "from pyspark.ml.regression import LinearRegression\n",
        "from pyspark.ml.evaluation import RegressionEvaluator\n",
        "\n",
        "# Initialize the Linear Regression model\n",
        "lr = LinearRegression(featuresCol=\"features\", labelCol=\"popularity\")\n",
        "\n",
        "# Train the model on the training data\n",
        "lr_model = lr.fit(train_data_ml)\n",
        "\n",
        "# Make predictions on the test data\n",
        "lr_predictions = lr_model.transform(test_data_ml)\n",
        "\n",
        "# Evaluate the model's performance\n",
        "lr_evaluator = RegressionEvaluator(labelCol=\"popularity\", predictionCol=\"prediction\", metricName=\"rmse\")\n",
        "lr_rmse = lr_evaluator.evaluate(lr_predictions)\n",
        "print(f'Linear Regression RMSE: {lr_rmse}')\n",
        "\n",
        "# You can also evaluate the R² (Coefficient of Determination)\n",
        "lr_evaluator.setMetricName(\"r2\")\n",
        "lr_r2 = lr_evaluator.evaluate(lr_predictions)\n",
        "print(f'Linear Regression R² score: {lr_r2}')\n"
      ],
      "metadata": {
        "id": "6yv-AaU_eUtj",
        "outputId": "eb97450e-342c-460a-da4a-53f486075fb9",
        "colab": {
          "base_uri": "https://localhost:8080/"
        }
      },
      "execution_count": 69,
      "outputs": [
        {
          "output_type": "stream",
          "name": "stdout",
          "text": [
            "Linear Regression RMSE: 10.034663911540207\n",
            "Linear Regression R² score: 0.7833034131582594\n"
          ]
        }
      ]
    },
    {
      "cell_type": "code",
      "source": [
        "train_data_ml.createOrReplaceTempView(\"music_tracks\")\n",
        "recommendations = spark.sql(\"\"\"\n",
        "    SELECT name, artists, danceability, energy, popularity\n",
        "    FROM music_tracks\n",
        "    WHERE danceability > 0.8 AND energy > 0.8\n",
        "    ORDER BY popularity DESC\n",
        "    LIMIT 10\n",
        "\"\"\")\n",
        "\n",
        "recommendations.show()\n"
      ],
      "metadata": {
        "id": "ZVMXVe7Uk0xL",
        "outputId": "2499767c-bb95-4831-f650-bc34858b8c4c",
        "colab": {
          "base_uri": "https://localhost:8080/",
          "height": 219
        }
      },
      "execution_count": 6,
      "outputs": [
        {
          "output_type": "error",
          "ename": "NameError",
          "evalue": "name 'train_data_ml' is not defined",
          "traceback": [
            "\u001b[0;31m---------------------------------------------------------------------------\u001b[0m",
            "\u001b[0;31mNameError\u001b[0m                                 Traceback (most recent call last)",
            "\u001b[0;32m<ipython-input-6-96c7abcd21a7>\u001b[0m in \u001b[0;36m<cell line: 1>\u001b[0;34m()\u001b[0m\n\u001b[0;32m----> 1\u001b[0;31m \u001b[0mtrain_data_ml\u001b[0m\u001b[0;34m.\u001b[0m\u001b[0mcreateOrReplaceTempView\u001b[0m\u001b[0;34m(\u001b[0m\u001b[0;34m\"music_tracks\"\u001b[0m\u001b[0;34m)\u001b[0m\u001b[0;34m\u001b[0m\u001b[0;34m\u001b[0m\u001b[0m\n\u001b[0m\u001b[1;32m      2\u001b[0m recommendations = spark.sql(\"\"\"\n\u001b[1;32m      3\u001b[0m     \u001b[0mSELECT\u001b[0m \u001b[0mname\u001b[0m\u001b[0;34m,\u001b[0m \u001b[0martists\u001b[0m\u001b[0;34m,\u001b[0m \u001b[0mdanceability\u001b[0m\u001b[0;34m,\u001b[0m \u001b[0menergy\u001b[0m\u001b[0;34m,\u001b[0m \u001b[0mpopularity\u001b[0m\u001b[0;34m\u001b[0m\u001b[0;34m\u001b[0m\u001b[0m\n\u001b[1;32m      4\u001b[0m     \u001b[0mFROM\u001b[0m \u001b[0mmusic_tracks\u001b[0m\u001b[0;34m\u001b[0m\u001b[0;34m\u001b[0m\u001b[0m\n\u001b[1;32m      5\u001b[0m     \u001b[0mWHERE\u001b[0m \u001b[0mdanceability\u001b[0m \u001b[0;34m>\u001b[0m \u001b[0;36m0.8\u001b[0m \u001b[0mAND\u001b[0m \u001b[0menergy\u001b[0m \u001b[0;34m>\u001b[0m \u001b[0;36m0.8\u001b[0m\u001b[0;34m\u001b[0m\u001b[0;34m\u001b[0m\u001b[0m\n",
            "\u001b[0;31mNameError\u001b[0m: name 'train_data_ml' is not defined"
          ]
        }
      ]
    }
  ],
  "metadata": {
    "colab": {
      "provenance": []
    },
    "kernelspec": {
      "display_name": "Python 3",
      "language": "python",
      "name": "python3"
    },
    "language_info": {
      "codemirror_mode": {
        "name": "ipython",
        "version": 3
      },
      "file_extension": ".py",
      "mimetype": "text/x-python",
      "name": "python",
      "nbconvert_exporter": "python",
      "pygments_lexer": "ipython3",
      "version": "3.7.0"
    }
  },
  "nbformat": 4,
  "nbformat_minor": 0
}